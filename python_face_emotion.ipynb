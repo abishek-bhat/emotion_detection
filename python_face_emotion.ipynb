{
 "cells": [
  {
   "cell_type": "code",
   "execution_count": null,
   "id": "8edd0b93",
   "metadata": {},
   "outputs": [],
   "source": [
    "import cv2\n",
    "import numpy as np"
   ]
  },
  {
   "cell_type": "code",
   "execution_count": null,
   "id": "783a14ff",
   "metadata": {},
   "outputs": [],
   "source": [
    "tf.keras.models.load_model(r\"D:\\project file\\modek_file.h5\" , custom_objects=None, compile=True, options=None)"
   ]
  },
  {
   "cell_type": "code",
   "execution_count": null,
   "id": "34f12785",
   "metadata": {},
   "outputs": [],
   "source": [
    "from keras.models import load_model"
   ]
  },
  {
   "cell_type": "code",
   "execution_count": null,
   "id": "55de8f28",
   "metadata": {},
   "outputs": [],
   "source": [
    "model=load_model(r\"D:\\project file\\modek_file.h5\")"
   ]
  },
  {
   "cell_type": "code",
   "execution_count": null,
   "id": "abb2f0f1",
   "metadata": {},
   "outputs": [],
   "source": [
    "faceDetect=cv2.CascadeClassifier(\"C:\\\\Users\\\\Abishek Bhat R\\\\AppData\\\\Roaming\\\\Python\\\\Python39\\\\site-packages\\\\cv2\\\\data\\\\haarcascade_frontalface_default.xml\")"
   ]
  },
  {
   "cell_type": "code",
   "execution_count": null,
   "id": "9dcbd998",
   "metadata": {},
   "outputs": [],
   "source": [
    "video=cv2.VideoCapture(0)"
   ]
  },
  {
   "cell_type": "code",
   "execution_count": null,
   "id": "db3cedbf",
   "metadata": {},
   "outputs": [],
   "source": [
    "labels_dict={0:'Angry',1:'Disgust', 2:'Fear', 3:'Happy',4:'Neutral',5:'Sad',6:'Surprise'}\n",
    "\n",
    "while True:\n",
    "    ret,frame=video.read()\n",
    "    gray=cv2.cvtColor(frame, cv2.COLOR_BGR2GRAY)\n",
    "    faces= faceDetect.detectMultiScale(gray, 1.3, 3)\n",
    "    for x,y,w,h in faces:\n",
    "        sub_face_img=gray[y:y+h, x:x+w]\n",
    "        resized=cv2.resize(sub_face_img,(48,48))\n",
    "        normalize=resized/255.0\n",
    "        reshaped=np.reshape(normalize, (1, 48, 48, 1))\n",
    "        result=model.predict(reshaped)\n",
    "        label=np.argmax(result, axis=1)[0]\n",
    "        print(label)\n",
    "        cv2.rectangle(frame, (x,y), (x+w, y+h), (0,0,255), 1)\n",
    "        cv2.rectangle(frame,(x,y),(x+w,y+h),(50,50,255),2)\n",
    "        cv2.rectangle(frame,(x,y-40),(x+w,y),(50,50,255),-1)\n",
    "        cv2.putText(frame, labels_dict[label], (x, y-10),cv2.FONT_HERSHEY_SIMPLEX,0.8,(255,255,255),2)\n",
    "        \n",
    "    cv2.imshow(\"Frame\",frame)\n",
    "    k=cv2.waitKey(1)\n",
    "    if k==ord('q'):\n",
    "        break\n",
    "\n",
    "video.release()\n",
    "cv2.destroyAllWindows() "
   ]
  },
  {
   "cell_type": "code",
   "execution_count": null,
   "id": "636d30a1",
   "metadata": {},
   "outputs": [],
   "source": []
  }
 ],
 "metadata": {
  "kernelspec": {
   "display_name": "Python 3 (ipykernel)",
   "language": "python",
   "name": "python3"
  },
  "language_info": {
   "codemirror_mode": {
    "name": "ipython",
    "version": 3
   },
   "file_extension": ".py",
   "mimetype": "text/x-python",
   "name": "python",
   "nbconvert_exporter": "python",
   "pygments_lexer": "ipython3",
   "version": "3.9.13"
  }
 },
 "nbformat": 4,
 "nbformat_minor": 5
}
